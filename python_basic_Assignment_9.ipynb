{
  "nbformat": 4,
  "nbformat_minor": 0,
  "metadata": {
    "colab": {
      "name": "Untitled2.ipynb",
      "provenance": []
    },
    "kernelspec": {
      "name": "python3",
      "display_name": "Python 3"
    },
    "language_info": {
      "name": "python"
    }
  },
  "cells": [
    {
      "cell_type": "markdown",
      "source": [
        "1.To what does a relative path refer?\n",
        "\n",
        "**Ans** he relative path is the path to some file with respect to your current working directory (PWD).\n"
      ],
      "metadata": {
        "id": "8SPv5OAG43h0"
      }
    },
    {
      "cell_type": "markdown",
      "source": [
        "2.Where does an absolute path start with your Operating System ?\n",
        "\n",
        "**Ans:** In Linux based systems the absolute path starts with /. Where as in Windows based systems absolute path starts with C:\n",
        "\n"
      ],
      "metadata": {
        "id": "47fT4AVv5LQX"
      }
    },
    {
      "cell_type": "markdown",
      "source": [
        "3.What does the functions os.getcwd() and os.chdir() do ?\n",
        "\n",
        "**Ans:** os.getcwd() method tells us the location of current working directory (CWD). Whereas os.chdir() method in Python used to change the current working directory to specified path. These functions are similar to linux commands pwd and cd"
      ],
      "metadata": {
        "id": "VMBBcRXf5TbF"
      }
    },
    {
      "cell_type": "markdown",
      "source": [
        "import os\n",
        "\n",
        "print(os.getcwd()) # Prints the current Working Directory\n",
        "\n",
        "path = r'C:\\Users\\thisi\\Documents'\n",
        "\n",
        "os.chdir(path)\n",
        "\n",
        "print(os.getcwd())"
      ],
      "metadata": {
        "id": "OStdCYRB7pJg"
      }
    },
    {
      "cell_type": "markdown",
      "source": [
        "4.What are . and .. folders ?\n",
        "\n",
        "**Ans:** . Represents the Current Directory Whereas .. Represents the Parent Directory of the Current Directory"
      ],
      "metadata": {
        "id": "zleTtslm7t_Q"
      }
    },
    {
      "cell_type": "markdown",
      "source": [
        "5.In C:\\bacon\\eggs\\spam.txt which part is the dir name and which part is the base name ?\n",
        "\n",
        "**Ans:** For C:\\bacon\\eggs\\spam.txt\n",
        "\n",
        "The dir name is C:\\\\bacon\\\\eggs\n",
        "\n",
        "The Base name is spam.txt"
      ],
      "metadata": {
        "id": "eKD6jxb678Y2"
      }
    },
    {
      "cell_type": "code",
      "source": [
        "import os\n",
        "path = r'C:\\bacon\\eggs\\spam.txt'\n",
        "print(os.path.dirname(path))\n",
        "print(os.path.basename(path))"
      ],
      "metadata": {
        "colab": {
          "base_uri": "https://localhost:8080/"
        },
        "id": "gRNymKS68BF5",
        "outputId": "cc165792-8923-4da6-9d67-eb130691b793"
      },
      "execution_count": 8,
      "outputs": [
        {
          "output_type": "stream",
          "name": "stdout",
          "text": [
            "\n",
            "C:\\bacon\\eggs\\spam.txt\n"
          ]
        }
      ]
    },
    {
      "cell_type": "markdown",
      "source": [
        "6.What are the three mode arguments that can be passed to the open() function ?\n",
        "\n",
        "**Ans:** A file can be Accessed in python using open() function. open function takes two arguments filename and mode of operation (optional). if mode is not provided the default mode of opening is read mode\n",
        "So, the syntax being: open(filename, mode)\n",
        "\n",
        "‘r’ – Read Mode: This is the default mode for open(). The file is opened and a pointer is positioned at the beginning of the file’s content.\n",
        "\n",
        "‘w’ – Write Mode: Using this mode will overwrite any existing content in a file. If the given file does not exist, a new one will be created.\n",
        "\n",
        "‘r+’ – Read/Write Mode: Use this mode if you need to simultaneously read and write to a file.\n",
        "\n",
        "‘a’ – Append Mode: With this mode the user can append the data without overwriting any already existing data in the file.\n",
        "\n",
        "‘a+’ – Append and Read Mode: In this mode you can read and append the data without overwriting the original file.\n",
        "\n",
        "‘x’ – Exclusive Creating Mode: This mode is for the sole purpose of creating new files. Use this mode if you know the file to be written doesn’t exist beforehand."
      ],
      "metadata": {
        "id": "X3ZlHCXR8Lrw"
      }
    },
    {
      "cell_type": "markdown",
      "source": [
        "7.What happens if an existing file is opened in write mode ?\n",
        "\n",
        "**Ans:** Using this mode will overwrite any existing content in a file. If the given file does not exist, a new one will be created."
      ],
      "metadata": {
        "id": "ucuznazA8O-E"
      }
    },
    {
      "cell_type": "markdown",
      "source": [
        "8.How do you tell the difference between read() and readlines() ?\n",
        "\n",
        "**Ans:** The main difference is that read() will read the whole file at once and then print out the first characters that take up as many bytes as you specify in the parenthesis\n",
        "\n",
        "Whereas the readline() that will read and print out only the first characters that take up as many bytes as you specify in the parenthesis. You may want to use readline() when you're reading files that are too big for your RAM.\n",
        "\n",
        "The read() would treat each character in the file separately, meaning that the iteration would happen for every character.\n",
        "\n",
        "The readline() function, on the other hand, only reads a single line of the file. This means that if the first line of the file were three lines long, the readline() function would only parse (or iterate/operate) on the first line of the file."
      ],
      "metadata": {
        "id": "ty9DbaEL8aWE"
      }
    },
    {
      "cell_type": "markdown",
      "source": [
        "9.What data structure does a shelf value resemble ?\n",
        "\n",
        "**Ans:** it contains key and values it represents dictionary."
      ],
      "metadata": {
        "id": "yQqoE-Mq8fFU"
      }
    }
  ]
}